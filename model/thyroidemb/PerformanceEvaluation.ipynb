{
 "cells": [
  {
   "cell_type": "code",
   "execution_count": 2,
   "metadata": {},
   "outputs": [
    {
     "name": "stdout",
     "output_type": "stream",
     "text": [
      "Collecting pandas\n",
      "  Using cached https://files.pythonhosted.org/packages/32/37/b0abb12e1e387ec63adfb5c7bb7bcbc05a7e1ae22a3604b03843d7b04e0b/pandas-0.25.3-cp36-cp36m-macosx_10_9_x86_64.whl\n",
      "Requirement already satisfied: pytz>=2017.2 in /Users/mike/intelpython2/envs/pytorch/lib/python3.6/site-packages (from pandas) (2018.4)\n",
      "Requirement already satisfied: python-dateutil>=2.6.1 in /Users/mike/.local/lib/python3.6/site-packages (from pandas) (2.8.0)\n",
      "Requirement already satisfied: numpy>=1.13.3 in /Users/mike/intelpython2/envs/pytorch/lib/python3.6/site-packages (from pandas) (1.16.1)\n",
      "Requirement already satisfied: six>=1.5 in /Users/mike/intelpython2/envs/pytorch/lib/python3.6/site-packages (from python-dateutil>=2.6.1->pandas) (1.11.0)\n",
      "\u001b[31mtensorflow-hub 0.4.0 requires protobuf>=3.4.0, which is not installed.\u001b[0m\n",
      "Installing collected packages: pandas\n",
      "Successfully installed pandas-0.25.3\n",
      "\u001b[33mYou are using pip version 10.0.1, however version 19.3.1 is available.\n",
      "You should consider upgrading via the 'pip install --upgrade pip' command.\u001b[0m\n"
     ]
    }
   ],
   "source": [
    "!pip install pandas"
   ]
  },
  {
   "cell_type": "code",
   "execution_count": 1,
   "metadata": {},
   "outputs": [],
   "source": [
    "import pandas as pd"
   ]
  },
  {
   "cell_type": "code",
   "execution_count": 60,
   "metadata": {},
   "outputs": [],
   "source": [
    "train = pd.read_csv('mobilenet_mixed_train2.csv')\n",
    "# eval = pd.read_csv('mobilenet5_pedraza__test_features.csv')\n",
    "test = pd.read_csv('mobilenet_mixed_test2.csv')"
   ]
  },
  {
   "cell_type": "code",
   "execution_count": 61,
   "metadata": {},
   "outputs": [],
   "source": [
    "all = pd.concat([train,test])"
   ]
  },
  {
   "cell_type": "code",
   "execution_count": 62,
   "metadata": {},
   "outputs": [
    {
     "data": {
      "text/plain": [
       "(246, 1283)"
      ]
     },
     "execution_count": 62,
     "metadata": {},
     "output_type": "execute_result"
    }
   ],
   "source": [
    "train.shape"
   ]
  },
  {
   "cell_type": "code",
   "execution_count": 63,
   "metadata": {},
   "outputs": [],
   "source": [
    "all_feat = all.drop(['idx','prob0','target'],axis=1)"
   ]
  },
  {
   "cell_type": "code",
   "execution_count": 64,
   "metadata": {},
   "outputs": [],
   "source": [
    "test_feat = test.drop(['idx','prob0','target'],axis=1)"
   ]
  },
  {
   "cell_type": "code",
   "execution_count": 65,
   "metadata": {},
   "outputs": [
    {
     "data": {
      "text/html": [
       "<div>\n",
       "<style scoped>\n",
       "    .dataframe tbody tr th:only-of-type {\n",
       "        vertical-align: middle;\n",
       "    }\n",
       "\n",
       "    .dataframe tbody tr th {\n",
       "        vertical-align: top;\n",
       "    }\n",
       "\n",
       "    .dataframe thead th {\n",
       "        text-align: right;\n",
       "    }\n",
       "</style>\n",
       "<table border=\"1\" class=\"dataframe\">\n",
       "  <thead>\n",
       "    <tr style=\"text-align: right;\">\n",
       "      <th></th>\n",
       "      <th>val0</th>\n",
       "      <th>val1</th>\n",
       "      <th>val2</th>\n",
       "      <th>val3</th>\n",
       "      <th>val4</th>\n",
       "      <th>val5</th>\n",
       "      <th>val6</th>\n",
       "      <th>val7</th>\n",
       "      <th>val8</th>\n",
       "      <th>val9</th>\n",
       "      <th>...</th>\n",
       "      <th>val1270</th>\n",
       "      <th>val1271</th>\n",
       "      <th>val1272</th>\n",
       "      <th>val1273</th>\n",
       "      <th>val1274</th>\n",
       "      <th>val1275</th>\n",
       "      <th>val1276</th>\n",
       "      <th>val1277</th>\n",
       "      <th>val1278</th>\n",
       "      <th>val1279</th>\n",
       "    </tr>\n",
       "  </thead>\n",
       "  <tbody>\n",
       "    <tr>\n",
       "      <th>count</th>\n",
       "      <td>314.000000</td>\n",
       "      <td>314.000000</td>\n",
       "      <td>314.000000</td>\n",
       "      <td>314.000000</td>\n",
       "      <td>314.000000</td>\n",
       "      <td>314.000000</td>\n",
       "      <td>314.000000</td>\n",
       "      <td>314.000000</td>\n",
       "      <td>314.000000</td>\n",
       "      <td>314.000000</td>\n",
       "      <td>...</td>\n",
       "      <td>314.000000</td>\n",
       "      <td>314.000000</td>\n",
       "      <td>314.000000</td>\n",
       "      <td>314.000000</td>\n",
       "      <td>314.000000</td>\n",
       "      <td>314.000000</td>\n",
       "      <td>314.000000</td>\n",
       "      <td>314.000000</td>\n",
       "      <td>314.000000</td>\n",
       "      <td>314.000000</td>\n",
       "    </tr>\n",
       "    <tr>\n",
       "      <th>mean</th>\n",
       "      <td>0.684459</td>\n",
       "      <td>1.113066</td>\n",
       "      <td>0.289848</td>\n",
       "      <td>0.415071</td>\n",
       "      <td>0.701585</td>\n",
       "      <td>0.131783</td>\n",
       "      <td>0.680629</td>\n",
       "      <td>0.952999</td>\n",
       "      <td>0.979881</td>\n",
       "      <td>1.290688</td>\n",
       "      <td>...</td>\n",
       "      <td>1.110206</td>\n",
       "      <td>0.688545</td>\n",
       "      <td>0.131121</td>\n",
       "      <td>0.229088</td>\n",
       "      <td>0.718553</td>\n",
       "      <td>0.973613</td>\n",
       "      <td>0.388577</td>\n",
       "      <td>1.116002</td>\n",
       "      <td>1.346566</td>\n",
       "      <td>0.288360</td>\n",
       "    </tr>\n",
       "    <tr>\n",
       "      <th>std</th>\n",
       "      <td>0.483330</td>\n",
       "      <td>0.646902</td>\n",
       "      <td>0.357587</td>\n",
       "      <td>0.409767</td>\n",
       "      <td>0.399068</td>\n",
       "      <td>0.224685</td>\n",
       "      <td>0.558886</td>\n",
       "      <td>0.772650</td>\n",
       "      <td>0.582781</td>\n",
       "      <td>0.507557</td>\n",
       "      <td>...</td>\n",
       "      <td>0.535733</td>\n",
       "      <td>0.419442</td>\n",
       "      <td>0.175257</td>\n",
       "      <td>0.256630</td>\n",
       "      <td>0.420475</td>\n",
       "      <td>0.468860</td>\n",
       "      <td>0.369080</td>\n",
       "      <td>0.476933</td>\n",
       "      <td>0.608755</td>\n",
       "      <td>0.264061</td>\n",
       "    </tr>\n",
       "    <tr>\n",
       "      <th>min</th>\n",
       "      <td>0.048342</td>\n",
       "      <td>0.029485</td>\n",
       "      <td>0.000000</td>\n",
       "      <td>0.012568</td>\n",
       "      <td>0.000000</td>\n",
       "      <td>0.000000</td>\n",
       "      <td>0.000000</td>\n",
       "      <td>0.014770</td>\n",
       "      <td>0.000000</td>\n",
       "      <td>0.027192</td>\n",
       "      <td>...</td>\n",
       "      <td>0.005341</td>\n",
       "      <td>0.024987</td>\n",
       "      <td>0.000000</td>\n",
       "      <td>0.000000</td>\n",
       "      <td>0.000000</td>\n",
       "      <td>0.000000</td>\n",
       "      <td>0.000000</td>\n",
       "      <td>0.000000</td>\n",
       "      <td>0.000000</td>\n",
       "      <td>0.000000</td>\n",
       "    </tr>\n",
       "    <tr>\n",
       "      <th>25%</th>\n",
       "      <td>0.344979</td>\n",
       "      <td>0.588868</td>\n",
       "      <td>0.084595</td>\n",
       "      <td>0.158291</td>\n",
       "      <td>0.368054</td>\n",
       "      <td>0.002324</td>\n",
       "      <td>0.234539</td>\n",
       "      <td>0.463263</td>\n",
       "      <td>0.493263</td>\n",
       "      <td>0.946159</td>\n",
       "      <td>...</td>\n",
       "      <td>0.711263</td>\n",
       "      <td>0.400002</td>\n",
       "      <td>0.033699</td>\n",
       "      <td>0.026219</td>\n",
       "      <td>0.382715</td>\n",
       "      <td>0.666785</td>\n",
       "      <td>0.108634</td>\n",
       "      <td>0.779512</td>\n",
       "      <td>0.942471</td>\n",
       "      <td>0.085703</td>\n",
       "    </tr>\n",
       "    <tr>\n",
       "      <th>50%</th>\n",
       "      <td>0.563005</td>\n",
       "      <td>1.039392</td>\n",
       "      <td>0.170867</td>\n",
       "      <td>0.271147</td>\n",
       "      <td>0.742044</td>\n",
       "      <td>0.034570</td>\n",
       "      <td>0.554685</td>\n",
       "      <td>0.730894</td>\n",
       "      <td>0.920906</td>\n",
       "      <td>1.365671</td>\n",
       "      <td>...</td>\n",
       "      <td>1.078558</td>\n",
       "      <td>0.629835</td>\n",
       "      <td>0.073512</td>\n",
       "      <td>0.155725</td>\n",
       "      <td>0.691478</td>\n",
       "      <td>1.060918</td>\n",
       "      <td>0.282642</td>\n",
       "      <td>1.065681</td>\n",
       "      <td>1.368887</td>\n",
       "      <td>0.211730</td>\n",
       "    </tr>\n",
       "    <tr>\n",
       "      <th>75%</th>\n",
       "      <td>0.849645</td>\n",
       "      <td>1.521584</td>\n",
       "      <td>0.321542</td>\n",
       "      <td>0.474102</td>\n",
       "      <td>0.975741</td>\n",
       "      <td>0.161393</td>\n",
       "      <td>1.008125</td>\n",
       "      <td>1.123005</td>\n",
       "      <td>1.349823</td>\n",
       "      <td>1.649381</td>\n",
       "      <td>...</td>\n",
       "      <td>1.476501</td>\n",
       "      <td>0.907003</td>\n",
       "      <td>0.144278</td>\n",
       "      <td>0.333330</td>\n",
       "      <td>0.995000</td>\n",
       "      <td>1.308108</td>\n",
       "      <td>0.589780</td>\n",
       "      <td>1.403053</td>\n",
       "      <td>1.724384</td>\n",
       "      <td>0.441645</td>\n",
       "    </tr>\n",
       "    <tr>\n",
       "      <th>max</th>\n",
       "      <td>3.139416</td>\n",
       "      <td>3.227103</td>\n",
       "      <td>2.243778</td>\n",
       "      <td>2.264004</td>\n",
       "      <td>1.696896</td>\n",
       "      <td>1.533457</td>\n",
       "      <td>2.734865</td>\n",
       "      <td>4.498197</td>\n",
       "      <td>2.980125</td>\n",
       "      <td>2.464467</td>\n",
       "      <td>...</td>\n",
       "      <td>2.881494</td>\n",
       "      <td>2.145741</td>\n",
       "      <td>1.280920</td>\n",
       "      <td>1.382416</td>\n",
       "      <td>2.244331</td>\n",
       "      <td>1.947859</td>\n",
       "      <td>1.986973</td>\n",
       "      <td>2.987339</td>\n",
       "      <td>3.443796</td>\n",
       "      <td>1.284370</td>\n",
       "    </tr>\n",
       "  </tbody>\n",
       "</table>\n",
       "<p>8 rows × 1280 columns</p>\n",
       "</div>"
      ],
      "text/plain": [
       "             val0        val1        val2        val3        val4        val5  \\\n",
       "count  314.000000  314.000000  314.000000  314.000000  314.000000  314.000000   \n",
       "mean     0.684459    1.113066    0.289848    0.415071    0.701585    0.131783   \n",
       "std      0.483330    0.646902    0.357587    0.409767    0.399068    0.224685   \n",
       "min      0.048342    0.029485    0.000000    0.012568    0.000000    0.000000   \n",
       "25%      0.344979    0.588868    0.084595    0.158291    0.368054    0.002324   \n",
       "50%      0.563005    1.039392    0.170867    0.271147    0.742044    0.034570   \n",
       "75%      0.849645    1.521584    0.321542    0.474102    0.975741    0.161393   \n",
       "max      3.139416    3.227103    2.243778    2.264004    1.696896    1.533457   \n",
       "\n",
       "             val6        val7        val8        val9  ...     val1270  \\\n",
       "count  314.000000  314.000000  314.000000  314.000000  ...  314.000000   \n",
       "mean     0.680629    0.952999    0.979881    1.290688  ...    1.110206   \n",
       "std      0.558886    0.772650    0.582781    0.507557  ...    0.535733   \n",
       "min      0.000000    0.014770    0.000000    0.027192  ...    0.005341   \n",
       "25%      0.234539    0.463263    0.493263    0.946159  ...    0.711263   \n",
       "50%      0.554685    0.730894    0.920906    1.365671  ...    1.078558   \n",
       "75%      1.008125    1.123005    1.349823    1.649381  ...    1.476501   \n",
       "max      2.734865    4.498197    2.980125    2.464467  ...    2.881494   \n",
       "\n",
       "          val1271     val1272     val1273     val1274     val1275     val1276  \\\n",
       "count  314.000000  314.000000  314.000000  314.000000  314.000000  314.000000   \n",
       "mean     0.688545    0.131121    0.229088    0.718553    0.973613    0.388577   \n",
       "std      0.419442    0.175257    0.256630    0.420475    0.468860    0.369080   \n",
       "min      0.024987    0.000000    0.000000    0.000000    0.000000    0.000000   \n",
       "25%      0.400002    0.033699    0.026219    0.382715    0.666785    0.108634   \n",
       "50%      0.629835    0.073512    0.155725    0.691478    1.060918    0.282642   \n",
       "75%      0.907003    0.144278    0.333330    0.995000    1.308108    0.589780   \n",
       "max      2.145741    1.280920    1.382416    2.244331    1.947859    1.986973   \n",
       "\n",
       "          val1277     val1278     val1279  \n",
       "count  314.000000  314.000000  314.000000  \n",
       "mean     1.116002    1.346566    0.288360  \n",
       "std      0.476933    0.608755    0.264061  \n",
       "min      0.000000    0.000000    0.000000  \n",
       "25%      0.779512    0.942471    0.085703  \n",
       "50%      1.065681    1.368887    0.211730  \n",
       "75%      1.403053    1.724384    0.441645  \n",
       "max      2.987339    3.443796    1.284370  \n",
       "\n",
       "[8 rows x 1280 columns]"
      ]
     },
     "execution_count": 65,
     "metadata": {},
     "output_type": "execute_result"
    }
   ],
   "source": [
    "all_feat.describe()"
   ]
  },
  {
   "cell_type": "code",
   "execution_count": 66,
   "metadata": {},
   "outputs": [],
   "source": [
    "feats = all_feat.values"
   ]
  },
  {
   "cell_type": "code",
   "execution_count": 67,
   "metadata": {},
   "outputs": [
    {
     "data": {
      "text/plain": [
       "0     False\n",
       "1     False\n",
       "2     False\n",
       "3     False\n",
       "4     False\n",
       "      ...  \n",
       "63     True\n",
       "64     True\n",
       "65     True\n",
       "66     True\n",
       "67     True\n",
       "Name: target, Length: 314, dtype: bool"
      ]
     },
     "execution_count": 67,
     "metadata": {},
     "output_type": "execute_result"
    }
   ],
   "source": [
    "positive = all['target'] == 1\n",
    "positive"
   ]
  },
  {
   "cell_type": "code",
   "execution_count": 68,
   "metadata": {},
   "outputs": [
    {
     "data": {
      "text/plain": [
       "0      True\n",
       "1      True\n",
       "2      True\n",
       "3      True\n",
       "4      True\n",
       "      ...  \n",
       "63    False\n",
       "64    False\n",
       "65    False\n",
       "66    False\n",
       "67    False\n",
       "Name: target, Length: 314, dtype: bool"
      ]
     },
     "execution_count": 68,
     "metadata": {},
     "output_type": "execute_result"
    }
   ],
   "source": [
    "negative = all['target'] == 0\n",
    "negative"
   ]
  },
  {
   "cell_type": "code",
   "execution_count": 69,
   "metadata": {},
   "outputs": [],
   "source": [
    "from sklearn.decomposition import PCA"
   ]
  },
  {
   "cell_type": "code",
   "execution_count": 70,
   "metadata": {},
   "outputs": [],
   "source": [
    "pca = PCA(5)"
   ]
  },
  {
   "cell_type": "code",
   "execution_count": 71,
   "metadata": {},
   "outputs": [],
   "source": [
    "X_pca = pca.fit_transform(feats)\n",
    "test_pca = pca.transform(test_feat)"
   ]
  },
  {
   "cell_type": "code",
   "execution_count": 72,
   "metadata": {},
   "outputs": [],
   "source": [
    "import matplotlib.pyplot as plt"
   ]
  },
  {
   "cell_type": "code",
   "execution_count": 73,
   "metadata": {},
   "outputs": [
    {
     "name": "stderr",
     "output_type": "stream",
     "text": [
      "No handles with labels found to put in legend.\n"
     ]
    },
    {
     "data": {
      "image/png": "[encoded data removed]",
      "text/plain": [
       "<Figure size 576x576 with 1 Axes>"
      ]
     },
     "metadata": {},
     "output_type": "display_data"
    }
   ],
   "source": [
    "colors = ['navy', 'turquoise', 'darkorange']\n",
    "\n",
    "X_transformed, title = X_pca, \"PCA\"\n",
    "plt.figure(figsize=(8, 8))\n",
    "plt.scatter(X_pca[positive,0],X_pca[positive,1],color='r')\n",
    "plt.scatter(X_pca[negative,0],X_pca[negative,1],color='b')\n",
    "# plt.scatter(test_pca[:,0],test_pca[:,1],color='g')\n",
    "\n",
    "plt.title(title + \" of iris dataset\")\n",
    "plt.legend(loc=\"best\", shadow=False, scatterpoints=1)\n",
    "\n",
    "plt.show()"
   ]
  },
  {
   "cell_type": "code",
   "execution_count": 74,
   "metadata": {},
   "outputs": [],
   "source": [
    "from sklearn.manifold import TSNE"
   ]
  },
  {
   "cell_type": "code",
   "execution_count": 75,
   "metadata": {},
   "outputs": [],
   "source": [
    "tsne = TSNE(2, perplexity=15)"
   ]
  },
  {
   "cell_type": "code",
   "execution_count": 76,
   "metadata": {},
   "outputs": [],
   "source": [
    "X_tsne = tsne.fit_transform(feats)\n",
    "# test_tsne = tsne.transform(test_feat)"
   ]
  },
  {
   "cell_type": "code",
   "execution_count": 77,
   "metadata": {},
   "outputs": [
    {
     "name": "stderr",
     "output_type": "stream",
     "text": [
      "No handles with labels found to put in legend.\n"
     ]
    },
    {
     "data": {
      "image/png": "[encoded data removed]",
      "text/plain": [
       "<Figure size 576x576 with 1 Axes>"
      ]
     },
     "metadata": {},
     "output_type": "display_data"
    }
   ],
   "source": [
    "X_transformed, title = X_pca, \"t-SNE\"\n",
    "plt.figure(figsize=(8, 8))\n",
    "plt.scatter(X_tsne[positive,1],X_tsne[positive,0],color='r')\n",
    "plt.scatter(X_tsne[negative,1],X_tsne[negative,0],color='b')\n",
    "# plt.scatter(X_tsne[-46:,0],X_tsne[-46:,1],color='g')\n",
    "\n",
    "plt.title(title + \" of iris dataset\")\n",
    "plt.legend(loc=\"best\", shadow=False, scatterpoints=1)\n",
    "\n",
    "plt.show()"
   ]
  },
  {
   "cell_type": "code",
   "execution_count": 78,
   "metadata": {},
   "outputs": [
    {
     "data": {
      "text/plain": [
       "(68, 1283)"
      ]
     },
     "execution_count": 78,
     "metadata": {},
     "output_type": "execute_result"
    }
   ],
   "source": [
    "test.shape"
   ]
  },
  {
   "cell_type": "code",
   "execution_count": 79,
   "metadata": {},
   "outputs": [
    {
     "data": {
      "text/plain": [
       "Index(['idx', 'prob0', 'target', 'val0', 'val1', 'val2', 'val3', 'val4',\n",
       "       'val5', 'val6',\n",
       "       ...\n",
       "       'val1272', 'val1273', 'val1274', 'val1275', 'val1276', 'val1277',\n",
       "       'val1278', 'val1279', 'prob1', 'predt'],\n",
       "      dtype='object', length=1285)"
      ]
     },
     "execution_count": 79,
     "metadata": {},
     "output_type": "execute_result"
    }
   ],
   "source": [
    "eval.columns"
   ]
  },
  {
   "cell_type": "code",
   "execution_count": 462,
   "metadata": {},
   "outputs": [],
   "source": [
    "# eval = pd.read_csv('mobilenet_mixed_train2.csv')\n",
    "test = pd.read_csv('resnet_mixed_test2.csv')"
   ]
  },
  {
   "cell_type": "code",
   "execution_count": 463,
   "metadata": {},
   "outputs": [],
   "source": [
    "from sklearn.metrics import accuracy_score"
   ]
  },
  {
   "cell_type": "code",
   "execution_count": 464,
   "metadata": {},
   "outputs": [],
   "source": [
    "eval['prob1'] = eval['prob0']\n",
    "test['prob1'] = test['prob0']"
   ]
  },
  {
   "cell_type": "code",
   "execution_count": 465,
   "metadata": {},
   "outputs": [
    {
     "data": {
      "text/plain": [
       "0.7560876623376623"
      ]
     },
     "execution_count": 465,
     "metadata": {},
     "output_type": "execute_result"
    }
   ],
   "source": [
    "from sklearn.metrics import roc_auc_score\n",
    "roc_auc_score(eval['target'], eval['prob1'])"
   ]
  },
  {
   "cell_type": "code",
   "execution_count": 466,
   "metadata": {},
   "outputs": [
    {
     "data": {
      "text/plain": [
       "0.8339285714285714"
      ]
     },
     "execution_count": 466,
     "metadata": {},
     "output_type": "execute_result"
    }
   ],
   "source": [
    "roc_auc_score(test['target'], test['prob0'])"
   ]
  },
  {
   "cell_type": "code",
   "execution_count": 467,
   "metadata": {},
   "outputs": [
    {
     "data": {
      "text/html": [
       "<div>\n",
       "<style scoped>\n",
       "    .dataframe tbody tr th:only-of-type {\n",
       "        vertical-align: middle;\n",
       "    }\n",
       "\n",
       "    .dataframe tbody tr th {\n",
       "        vertical-align: top;\n",
       "    }\n",
       "\n",
       "    .dataframe thead th {\n",
       "        text-align: right;\n",
       "    }\n",
       "</style>\n",
       "<table border=\"1\" class=\"dataframe\">\n",
       "  <thead>\n",
       "    <tr style=\"text-align: right;\">\n",
       "      <th></th>\n",
       "      <th>prob1</th>\n",
       "      <th>target</th>\n",
       "    </tr>\n",
       "  </thead>\n",
       "  <tbody>\n",
       "    <tr>\n",
       "      <th>count</th>\n",
       "      <td>246.000000</td>\n",
       "      <td>246.000000</td>\n",
       "    </tr>\n",
       "    <tr>\n",
       "      <th>mean</th>\n",
       "      <td>0.326048</td>\n",
       "      <td>0.715447</td>\n",
       "    </tr>\n",
       "    <tr>\n",
       "      <th>std</th>\n",
       "      <td>0.313402</td>\n",
       "      <td>0.452121</td>\n",
       "    </tr>\n",
       "    <tr>\n",
       "      <th>min</th>\n",
       "      <td>0.000597</td>\n",
       "      <td>0.000000</td>\n",
       "    </tr>\n",
       "    <tr>\n",
       "      <th>25%</th>\n",
       "      <td>0.044221</td>\n",
       "      <td>0.000000</td>\n",
       "    </tr>\n",
       "    <tr>\n",
       "      <th>50%</th>\n",
       "      <td>0.211879</td>\n",
       "      <td>1.000000</td>\n",
       "    </tr>\n",
       "    <tr>\n",
       "      <th>75%</th>\n",
       "      <td>0.562680</td>\n",
       "      <td>1.000000</td>\n",
       "    </tr>\n",
       "    <tr>\n",
       "      <th>max</th>\n",
       "      <td>0.992110</td>\n",
       "      <td>1.000000</td>\n",
       "    </tr>\n",
       "  </tbody>\n",
       "</table>\n",
       "</div>"
      ],
      "text/plain": [
       "            prob1      target\n",
       "count  246.000000  246.000000\n",
       "mean     0.326048    0.715447\n",
       "std      0.313402    0.452121\n",
       "min      0.000597    0.000000\n",
       "25%      0.044221    0.000000\n",
       "50%      0.211879    1.000000\n",
       "75%      0.562680    1.000000\n",
       "max      0.992110    1.000000"
      ]
     },
     "execution_count": 467,
     "metadata": {},
     "output_type": "execute_result"
    }
   ],
   "source": [
    "eval[['prob1','target']].describe()"
   ]
  },
  {
   "cell_type": "code",
   "execution_count": 468,
   "metadata": {},
   "outputs": [
    {
     "data": {
      "text/html": [
       "<div>\n",
       "<style scoped>\n",
       "    .dataframe tbody tr th:only-of-type {\n",
       "        vertical-align: middle;\n",
       "    }\n",
       "\n",
       "    .dataframe tbody tr th {\n",
       "        vertical-align: top;\n",
       "    }\n",
       "\n",
       "    .dataframe thead th {\n",
       "        text-align: right;\n",
       "    }\n",
       "</style>\n",
       "<table border=\"1\" class=\"dataframe\">\n",
       "  <thead>\n",
       "    <tr style=\"text-align: right;\">\n",
       "      <th></th>\n",
       "      <th>prob0</th>\n",
       "      <th>target</th>\n",
       "    </tr>\n",
       "  </thead>\n",
       "  <tbody>\n",
       "    <tr>\n",
       "      <th>count</th>\n",
       "      <td>68.000000</td>\n",
       "      <td>68.000000</td>\n",
       "    </tr>\n",
       "    <tr>\n",
       "      <th>mean</th>\n",
       "      <td>0.626940</td>\n",
       "      <td>0.588235</td>\n",
       "    </tr>\n",
       "    <tr>\n",
       "      <th>std</th>\n",
       "      <td>0.369808</td>\n",
       "      <td>0.495812</td>\n",
       "    </tr>\n",
       "    <tr>\n",
       "      <th>min</th>\n",
       "      <td>0.000153</td>\n",
       "      <td>0.000000</td>\n",
       "    </tr>\n",
       "    <tr>\n",
       "      <th>25%</th>\n",
       "      <td>0.259201</td>\n",
       "      <td>0.000000</td>\n",
       "    </tr>\n",
       "    <tr>\n",
       "      <th>50%</th>\n",
       "      <td>0.809899</td>\n",
       "      <td>1.000000</td>\n",
       "    </tr>\n",
       "    <tr>\n",
       "      <th>75%</th>\n",
       "      <td>0.952329</td>\n",
       "      <td>1.000000</td>\n",
       "    </tr>\n",
       "    <tr>\n",
       "      <th>max</th>\n",
       "      <td>0.999327</td>\n",
       "      <td>1.000000</td>\n",
       "    </tr>\n",
       "  </tbody>\n",
       "</table>\n",
       "</div>"
      ],
      "text/plain": [
       "           prob0     target\n",
       "count  68.000000  68.000000\n",
       "mean    0.626940   0.588235\n",
       "std     0.369808   0.495812\n",
       "min     0.000153   0.000000\n",
       "25%     0.259201   0.000000\n",
       "50%     0.809899   1.000000\n",
       "75%     0.952329   1.000000\n",
       "max     0.999327   1.000000"
      ]
     },
     "execution_count": 468,
     "metadata": {},
     "output_type": "execute_result"
    }
   ],
   "source": [
    "test[['prob0','target']].describe()"
   ]
  },
  {
   "cell_type": "code",
   "execution_count": 526,
   "metadata": {},
   "outputs": [],
   "source": [
    "from sklearn.metrics import classification_report"
   ]
  },
  {
   "cell_type": "code",
   "execution_count": 565,
   "metadata": {},
   "outputs": [],
   "source": [
    "threshold = 0.7\n",
    "# eval['predt'] = (eval['prob0'] > threshold)\n",
    "test['predt'] = (test['prob0'] > threshold)"
   ]
  },
  {
   "cell_type": "code",
   "execution_count": 568,
   "metadata": {},
   "outputs": [
    {
     "data": {
      "text/plain": [
       "0.7647058823529411"
      ]
     },
     "execution_count": 568,
     "metadata": {},
     "output_type": "execute_result"
    }
   ],
   "source": [
    "accuracy_score(test['target'],test['predt'])"
   ]
  },
  {
   "cell_type": "code",
   "execution_count": 569,
   "metadata": {},
   "outputs": [
    {
     "data": {
      "text/plain": [
       "'              precision    recall  f1-score   support\\n\\n           0       0.34      0.97      0.50        70\\n           1       0.96      0.24      0.39       176\\n\\n   micro avg       0.45      0.45      0.45       246\\n   macro avg       0.65      0.61      0.45       246\\nweighted avg       0.78      0.45      0.42       246\\n'"
      ]
     },
     "execution_count": 569,
     "metadata": {},
     "output_type": "execute_result"
    }
   ],
   "source": [
    "classification_report(eval['target'],eval['predt'])"
   ]
  },
  {
   "cell_type": "code",
   "execution_count": 604,
   "metadata": {},
   "outputs": [
    {
     "data": {
      "text/plain": [
       "'              precision    recall  f1-score   support\\n\\n           0       0.70      0.75      0.72        28\\n           1       0.82      0.78      0.79        40\\n\\n   micro avg       0.76      0.76      0.76        68\\n   macro avg       0.76      0.76      0.76        68\\nweighted avg       0.77      0.76      0.77        68\\n'"
      ]
     },
     "execution_count": 604,
     "metadata": {},
     "output_type": "execute_result"
    }
   ],
   "source": [
    "classification_report(test['target'],test['predt'])"
   ]
  },
  {
   "cell_type": "code",
   "execution_count": 478,
   "metadata": {},
   "outputs": [
    {
     "data": {
      "text/plain": [
       "0.6626016260162602"
      ]
     },
     "execution_count": 478,
     "metadata": {},
     "output_type": "execute_result"
    }
   ],
   "source": [
    "accuracy_score(eval['target'],eval['predt'])"
   ]
  },
  {
   "cell_type": "code",
   "execution_count": 573,
   "metadata": {},
   "outputs": [],
   "source": [
    "utsw_test = pd.read_csv('resnet_mixed_utsw_test1.csv')"
   ]
  },
  {
   "cell_type": "code",
   "execution_count": 574,
   "metadata": {},
   "outputs": [
    {
     "data": {
      "text/plain": [
       "Index(['idx', 'prob0', 'target', 'val0', 'val1', 'val2', 'val3', 'val4',\n",
       "       'val5', 'val6',\n",
       "       ...\n",
       "       'val2038', 'val2039', 'val2040', 'val2041', 'val2042', 'val2043',\n",
       "       'val2044', 'val2045', 'val2046', 'val2047'],\n",
       "      dtype='object', length=2051)"
      ]
     },
     "execution_count": 574,
     "metadata": {},
     "output_type": "execute_result"
    }
   ],
   "source": [
    "utsw_test.columns"
   ]
  },
  {
   "cell_type": "code",
   "execution_count": 575,
   "metadata": {},
   "outputs": [
    {
     "data": {
      "text/plain": [
       "0.5196078431372549"
      ]
     },
     "execution_count": 575,
     "metadata": {},
     "output_type": "execute_result"
    }
   ],
   "source": [
    "roc_auc_score(utsw_test['target'], utsw_test['prob0'])"
   ]
  },
  {
   "cell_type": "code",
   "execution_count": 607,
   "metadata": {},
   "outputs": [
    {
     "data": {
      "text/plain": [
       "0.782608695652174"
      ]
     },
     "execution_count": 607,
     "metadata": {},
     "output_type": "execute_result"
    }
   ],
   "source": [
    "threshold = 0.2\n",
    "utsw_test['predt'] = (utsw_test['prob0'] > threshold)\n",
    "accuracy_score(utsw_test['target'],utsw_test['predt'])"
   ]
  },
  {
   "cell_type": "code",
   "execution_count": 608,
   "metadata": {},
   "outputs": [
    {
     "data": {
      "text/plain": [
       "'              precision    recall  f1-score   support\\n\\n           0       0.80      0.94      0.86        17\\n           1       0.67      0.33      0.44         6\\n\\n   micro avg       0.78      0.78      0.78        23\\n   macro avg       0.73      0.64      0.65        23\\nweighted avg       0.77      0.78      0.76        23\\n'"
      ]
     },
     "execution_count": 608,
     "metadata": {},
     "output_type": "execute_result"
    }
   ],
   "source": [
    "classification_report(utsw_test['target'],utsw_test['predt'])"
   ]
  },
  {
   "cell_type": "code",
   "execution_count": null,
   "metadata": {},
   "outputs": [],
   "source": []
  },
  {
   "cell_type": "code",
   "execution_count": null,
   "metadata": {},
   "outputs": [],
   "source": []
  }
 ],
 "metadata": {
  "kernelspec": {
   "display_name": "Python Intel Pytorch",
   "language": "python",
   "name": "pytorch"
  },
  "language_info": {
   "codemirror_mode": {
    "name": "ipython",
    "version": 3
   },
   "file_extension": ".py",
   "mimetype": "text/x-python",
   "name": "python",
   "nbconvert_exporter": "python",
   "pygments_lexer": "ipython3",
   "version": "3.6.5"
  },
  "toc": {
   "base_numbering": 1,
   "nav_menu": {},
   "number_sections": true,
   "sideBar": true,
   "skip_h1_title": false,
   "title_cell": "Table of Contents",
   "title_sidebar": "Contents",
   "toc_cell": false,
   "toc_position": {},
   "toc_section_display": true,
   "toc_window_display": false
  }
 },
 "nbformat": 4,
 "nbformat_minor": 2
}
